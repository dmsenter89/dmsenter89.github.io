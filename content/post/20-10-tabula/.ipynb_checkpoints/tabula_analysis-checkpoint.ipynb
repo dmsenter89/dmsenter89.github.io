{
 "cells": [
  {
   "cell_type": "markdown",
   "metadata": {},
   "source": [
    "After reading a news article about teacher pay in the US, I was curious and wanted to look into the source data myself. Unfortunately, the source that was mentioned was a publication by the [National Education Association (NEA)](https://www.nea.org/) which had the data as tables embedded inside a PDF report. As those who know me can attest, I don't like hand-copying data. It is slow and error-prone. Instead, I decided to use the tabula package to extract the information from the PDFs directly into a Pandas dataframe. In this post, I will show you how to extract the data and how to clean it up for analysis.\n",
    "\n",
    "{{% toc %}}"
   ]
  },
  {
   "cell_type": "markdown",
   "metadata": {},
   "source": [
    "## The Data Source\n",
    "\n",
    "Several years worth of data are available in PDF form on the [NEA website](https://www.nea.org/research-publications). Reading through the technical notes, they highlight that they did not collect all of their own salary information. Some states' information is calculated from the American Community Survey (ACS) done by the Census Bureau - a great resource whose API I have covered in a [different post]({{< ref \"/post/20-08-census-api/index.md\" >}}). Each report includes accurate data for the previous school year, as well as estimates for the current school year. As of this post, the newest report is the 2020 report which includes data for the the 2018-2019 school year, as well as estimates of the 2019-2020 school year.\n",
    "\n",
    "The 2020 report has the desired teacher salary information in two separate locations. One is in table B-6 on page 26 of the PDF, which shows a ranking of the different states' average salary in addition to the average salary:\n",
    "\n",
    "![](table_B-6.PNG)"
   ]
  },
  {
   "cell_type": "markdown",
   "metadata": {},
   "source": [
    "A second location is in table E-7 on page 46, which gives salary data for the completed school year as well as different states' estimates for the 2019-2020 school year:\n",
    "\n",
    "![](table_E-7.PNG)\n",
    "\n",
    "Note that table E-7 lacks the star-annotation marking NEA estimated values. This, and the lack of the ranking column, makes Table E-7 easier to parse. In the main example below, this will be the source of the five years of data. I will however also show how to parse table B-6 at the end of this post for completion. "
   ]
  },
  {
   "cell_type": "markdown",
   "metadata": {},
   "source": [
    "## Loading the Data"
   ]
  },
  {
   "cell_type": "markdown",
   "metadata": {},
   "source": [
    "As of October 2020, the NEA site has five years worth of reports online. Unfortunately, these are not labeled consistently for all five years. Similarly the page numbers differ for each report. Prior to the 2018 report, inconsistent formats were used for the tables which require previous years to be parsed separately from the newer tables. For this reason, I'll make a dictionary for the 2018-2020 reports only, which will simplify the example below."
   ]
  },
  {
   "cell_type": "code",
   "execution_count": null,
   "metadata": {},
   "outputs": [],
   "source": [
    "report = {\n",
    "    '2020' : {\n",
    "        'url'  : \"https://www.nea.org/sites/default/files/2020-10/2020%20Rankings%20and%20Estimates%20Report.pdf\",\n",
    "        'page' : 46,\n",
    "    },\n",
    "    '2019' : {\n",
    "        'url'  : \"https://www.nea.org/sites/default/files/2020-06/2019%20Rankings%20and%20Estimates%20Report.pdf\",\n",
    "        'page' : 49,\n",
    "    },\n",
    "    '2018' : {\n",
    "        'url'  : \"https://www.nea.org/sites/default/files/2020-07/180413-Rankings_And_Estimates_Report_2018.pdf\",\n",
    "        'page' : 51,\n",
    "    },\n",
    "}"
   ]
  },
  {
   "cell_type": "markdown",
   "metadata": {},
   "source": [
    "We can now use dictionary comprehension to fill in a dictionary with all the source tables of interest. We will be using the tabula package to extract data from the PDFs. If you don't have it installed, you can use `pip install tabula-py` to get a copy. The method that reads in a PDF is aptly called `read_pdf`. It's first argument is a file path to the PDF. Since we want to use a URL, we will use the keyword argument `stream=True` and then name the specific page in each PDF that contains the information we are after. By default, `read_pdf` returns a list of dataframes, so we just save the first element from the list, which is the report we are interested in.\n",
    "\n",
    "*Note:* if you are using WSL, depending on your settings, you may get the error `Exception in thread \"main\" java.awt.AWTError: Can't connect to X11 window server using 'XXX.XXX.XXX.XXX:0' as the value of the DISPLAY variable.` error when running `read_pdf`. This is fixed by having an X11 server running."
   ]
  },
  {
   "cell_type": "code",
   "execution_count": 2,
   "metadata": {},
   "outputs": [],
   "source": [
    "import tabula\n",
    "import pandas as pd\n",
    "\n",
    "source_df = {year : tabula.read_pdf(report[year]['url'], stream=True, pages=report[year]['page'])[0] \n",
    "             for year in report.keys()}"
   ]
  },
  {
   "cell_type": "markdown",
   "metadata": {},
   "source": [
    "And that's it in principle. How cool is that! Of course, we still need to clean our data a little bit. "
   ]
  },
  {
   "cell_type": "markdown",
   "metadata": {},
   "source": [
    "### Cleaning the Data\n",
    "\n",
    "Let's take a look at the first and last few entries of the 2020 report:"
   ]
  },
  {
   "cell_type": "code",
   "execution_count": 3,
   "metadata": {},
   "outputs": [
    {
     "data": {
      "text/html": [
       "<div>\n",
       "<style scoped>\n",
       "    .dataframe tbody tr th:only-of-type {\n",
       "        vertical-align: middle;\n",
       "    }\n",
       "\n",
       "    .dataframe tbody tr th {\n",
       "        vertical-align: top;\n",
       "    }\n",
       "\n",
       "    .dataframe thead th {\n",
       "        text-align: right;\n",
       "    }\n",
       "</style>\n",
       "<table border=\"1\" class=\"dataframe\">\n",
       "  <thead>\n",
       "    <tr style=\"text-align: right;\">\n",
       "      <th></th>\n",
       "      <th>Unnamed: 0</th>\n",
       "      <th>2018-19</th>\n",
       "      <th>2019-20</th>\n",
       "      <th>From 2018-19 to 2019-20</th>\n",
       "      <th>From 2010-11 to 2019-20 (%)</th>\n",
       "    </tr>\n",
       "  </thead>\n",
       "  <tbody>\n",
       "    <tr>\n",
       "      <th>0</th>\n",
       "      <td>State</td>\n",
       "      <td>Salary($)</td>\n",
       "      <td>Salary($)</td>\n",
       "      <td>Change(%)</td>\n",
       "      <td>Current Dollar Constant Dollar</td>\n",
       "    </tr>\n",
       "    <tr>\n",
       "      <th>1</th>\n",
       "      <td>Alabama</td>\n",
       "      <td>52,009</td>\n",
       "      <td>54,095</td>\n",
       "      <td>4.01</td>\n",
       "      <td>13.16 -2.58</td>\n",
       "    </tr>\n",
       "    <tr>\n",
       "      <th>2</th>\n",
       "      <td>Alaska</td>\n",
       "      <td>70,277</td>\n",
       "      <td>70,877</td>\n",
       "      <td>0.85</td>\n",
       "      <td>15.36 -0.69</td>\n",
       "    </tr>\n",
       "    <tr>\n",
       "      <th>3</th>\n",
       "      <td>Arizona</td>\n",
       "      <td>50,353</td>\n",
       "      <td>50,381</td>\n",
       "      <td>0.06</td>\n",
       "      <td>8.03 -7.00</td>\n",
       "    </tr>\n",
       "    <tr>\n",
       "      <th>4</th>\n",
       "      <td>Arkansas</td>\n",
       "      <td>49,438</td>\n",
       "      <td>49,822</td>\n",
       "      <td>0.78</td>\n",
       "      <td>8.31 -6.75</td>\n",
       "    </tr>\n",
       "    <tr>\n",
       "      <th>48</th>\n",
       "      <td>Washington</td>\n",
       "      <td>73,049</td>\n",
       "      <td>72,965</td>\n",
       "      <td>-0.11</td>\n",
       "      <td>37.86 18.69</td>\n",
       "    </tr>\n",
       "    <tr>\n",
       "      <th>49</th>\n",
       "      <td>West Virginia</td>\n",
       "      <td>47,681</td>\n",
       "      <td>50,238</td>\n",
       "      <td>5.36</td>\n",
       "      <td>13.51 -2.28</td>\n",
       "    </tr>\n",
       "    <tr>\n",
       "      <th>50</th>\n",
       "      <td>Wisconsin</td>\n",
       "      <td>58,277</td>\n",
       "      <td>59,176</td>\n",
       "      <td>1.54</td>\n",
       "      <td>9.17 -6.02</td>\n",
       "    </tr>\n",
       "    <tr>\n",
       "      <th>51</th>\n",
       "      <td>Wyoming</td>\n",
       "      <td>58,861</td>\n",
       "      <td>59,014</td>\n",
       "      <td>0.26</td>\n",
       "      <td>5.19 -9.44</td>\n",
       "    </tr>\n",
       "    <tr>\n",
       "      <th>52</th>\n",
       "      <td>United States</td>\n",
       "      <td>62,304</td>\n",
       "      <td>63,645</td>\n",
       "      <td>2.15</td>\n",
       "      <td>14.14 -1.73</td>\n",
       "    </tr>\n",
       "  </tbody>\n",
       "</table>\n",
       "</div>"
      ],
      "text/plain": [
       "       Unnamed: 0    2018-19    2019-20 From 2018-19 to 2019-20  \\\n",
       "0           State  Salary($)  Salary($)               Change(%)   \n",
       "1         Alabama     52,009     54,095                    4.01   \n",
       "2          Alaska     70,277     70,877                    0.85   \n",
       "3         Arizona     50,353     50,381                    0.06   \n",
       "4        Arkansas     49,438     49,822                    0.78   \n",
       "48     Washington     73,049     72,965                   -0.11   \n",
       "49  West Virginia     47,681     50,238                    5.36   \n",
       "50      Wisconsin     58,277     59,176                    1.54   \n",
       "51        Wyoming     58,861     59,014                    0.26   \n",
       "52  United States     62,304     63,645                    2.15   \n",
       "\n",
       "       From 2010-11 to 2019-20 (%)  \n",
       "0   Current Dollar Constant Dollar  \n",
       "1                      13.16 -2.58  \n",
       "2                      15.36 -0.69  \n",
       "3                       8.03 -7.00  \n",
       "4                       8.31 -6.75  \n",
       "48                     37.86 18.69  \n",
       "49                     13.51 -2.28  \n",
       "50                      9.17 -6.02  \n",
       "51                      5.19 -9.44  \n",
       "52                     14.14 -1.73  "
      ]
     },
     "execution_count": 3,
     "metadata": {},
     "output_type": "execute_result"
    }
   ],
   "source": [
    "pd.concat([source_df['2020'].head(), \n",
    "           source_df['2020'].tail()])"
   ]
  },
  {
   "cell_type": "markdown",
   "metadata": {},
   "source": [
    "We see that each column is treated as a string object (which you can confirm by running `source_df['2020'].dtypes`) and that the first row of data is actually at index 1 due to the fact that the PDF report used a two-row header. This means we can safely drop the first row of every dataframe. We can also drop the last row of every dataframe since that just contains summary data of the US as a whole, which we can easily regenerate as necessary. So row indices 0 and 52 can go for all of our data sets."
   ]
  },
  {
   "cell_type": "code",
   "execution_count": 4,
   "metadata": {},
   "outputs": [],
   "source": [
    "for df in source_df.values():\n",
    "    df.drop([0, 52], inplace=True)"
   ]
  },
  {
   "cell_type": "markdown",
   "metadata": {},
   "source": [
    "Next up I'd like to fix the column names. The fist column is clearly the name of the state (except in the case of Washington D.C.), while the next two columns give the years for which the salary information is given. Let's rename the second and third columns according to the pattern `Salary %YYYY-YY` using Python's f-string syntax."
   ]
  },
  {
   "cell_type": "code",
   "execution_count": 5,
   "metadata": {},
   "outputs": [
    {
     "data": {
      "text/html": [
       "<div>\n",
       "<style scoped>\n",
       "    .dataframe tbody tr th:only-of-type {\n",
       "        vertical-align: middle;\n",
       "    }\n",
       "\n",
       "    .dataframe tbody tr th {\n",
       "        vertical-align: top;\n",
       "    }\n",
       "\n",
       "    .dataframe thead th {\n",
       "        text-align: right;\n",
       "    }\n",
       "</style>\n",
       "<table border=\"1\" class=\"dataframe\">\n",
       "  <thead>\n",
       "    <tr style=\"text-align: right;\">\n",
       "      <th></th>\n",
       "      <th>State</th>\n",
       "      <th>Salary 2018-19</th>\n",
       "      <th>Salary 2019-20</th>\n",
       "      <th>From 2018-19 to 2019-20</th>\n",
       "      <th>From 2010-11 to 2019-20 (%)</th>\n",
       "    </tr>\n",
       "  </thead>\n",
       "  <tbody>\n",
       "    <tr>\n",
       "      <th>1</th>\n",
       "      <td>Alabama</td>\n",
       "      <td>52,009</td>\n",
       "      <td>54,095</td>\n",
       "      <td>4.01</td>\n",
       "      <td>13.16 -2.58</td>\n",
       "    </tr>\n",
       "    <tr>\n",
       "      <th>2</th>\n",
       "      <td>Alaska</td>\n",
       "      <td>70,277</td>\n",
       "      <td>70,877</td>\n",
       "      <td>0.85</td>\n",
       "      <td>15.36 -0.69</td>\n",
       "    </tr>\n",
       "    <tr>\n",
       "      <th>3</th>\n",
       "      <td>Arizona</td>\n",
       "      <td>50,353</td>\n",
       "      <td>50,381</td>\n",
       "      <td>0.06</td>\n",
       "      <td>8.03 -7.00</td>\n",
       "    </tr>\n",
       "    <tr>\n",
       "      <th>4</th>\n",
       "      <td>Arkansas</td>\n",
       "      <td>49,438</td>\n",
       "      <td>49,822</td>\n",
       "      <td>0.78</td>\n",
       "      <td>8.31 -6.75</td>\n",
       "    </tr>\n",
       "    <tr>\n",
       "      <th>5</th>\n",
       "      <td>California</td>\n",
       "      <td>83,059</td>\n",
       "      <td>84,659</td>\n",
       "      <td>1.93</td>\n",
       "      <td>24.74 7.39</td>\n",
       "    </tr>\n",
       "  </tbody>\n",
       "</table>\n",
       "</div>"
      ],
      "text/plain": [
       "        State Salary 2018-19 Salary 2019-20 From 2018-19 to 2019-20  \\\n",
       "1     Alabama         52,009         54,095                    4.01   \n",
       "2      Alaska         70,277         70,877                    0.85   \n",
       "3     Arizona         50,353         50,381                    0.06   \n",
       "4    Arkansas         49,438         49,822                    0.78   \n",
       "5  California         83,059         84,659                    1.93   \n",
       "\n",
       "  From 2010-11 to 2019-20 (%)  \n",
       "1                 13.16 -2.58  \n",
       "2                 15.36 -0.69  \n",
       "3                  8.03 -7.00  \n",
       "4                  8.31 -6.75  \n",
       "5                  24.74 7.39  "
      ]
     },
     "execution_count": 5,
     "metadata": {},
     "output_type": "execute_result"
    }
   ],
   "source": [
    "for df in source_df.values():\n",
    "    df.rename(columns={\n",
    "        df.columns[0] : \"State\",\n",
    "        df.columns[1] : f\"Salary {str(df.columns[1])}\",\n",
    "        df.columns[2] : f\"Salary {str(df.columns[2])}\",\n",
    "    }, \n",
    "              inplace=True)\n",
    "    \n",
    "source_df[\"2020\"].head()  # show the result of our edits so far"
   ]
  },
  {
   "cell_type": "markdown",
   "metadata": {},
   "source": [
    "Looks like we're almost done! Let's drop the unnecessary columns and check our remaining column names:"
   ]
  },
  {
   "cell_type": "code",
   "execution_count": 6,
   "metadata": {},
   "outputs": [
    {
     "name": "stdout",
     "output_type": "stream",
     "text": [
      "2020:\tIndex(['State', 'Salary 2018-19', 'Salary 2019-20'], dtype='object')\n",
      "2019:\tIndex(['State', 'Salary 2017-18', 'Salary 2018-19'], dtype='object')\n",
      "2018:\tIndex(['State', 'Salary 2017', 'Salary 2018'], dtype='object')\n"
     ]
    }
   ],
   "source": [
    "for year, df in source_df.items():\n",
    "    df.drop(df.columns[3:], axis=1, inplace=True)\n",
    "    print(f\"{year}:\\t{df.columns}\")"
   ]
  },
  {
   "cell_type": "markdown",
   "metadata": {},
   "source": [
    "We can see that the column naming scheme in 2018 was different than in the previous reports. To make them all compatible for our merge, we're going to have to do some more editing. Based on the other reports, it appears as though the 2018 report used the calendar year of the *end* of the school year, while the others utilized a range. This can easily be solved using regex substitution. We'll do that now."
   ]
  },
  {
   "cell_type": "code",
   "execution_count": 7,
   "metadata": {},
   "outputs": [
    {
     "name": "stdout",
     "output_type": "stream",
     "text": [
      "2020:\tIndex(['State', 'Salary 2019', 'Salary 2020'], dtype='object')\n",
      "2019:\tIndex(['State', 'Salary 2018', 'Salary 2019'], dtype='object')\n",
      "2018:\tIndex(['State', 'Salary 2017', 'Salary 2018'], dtype='object')\n"
     ]
    }
   ],
   "source": [
    "import re\n",
    "\n",
    "for year, df in source_df.items():\n",
    "    if year != \"2018\":\n",
    "        df.rename(columns={\n",
    "            df.columns[1] : re.sub(r\"\\d{2}-\", '', df.columns[1]),\n",
    "            df.columns[2] : re.sub(r\"\\d{2}-\", '', df.columns[2]),\n",
    "        }, \n",
    "                  inplace=True)\n",
    "    # print the output for verification\n",
    "    print(f\"{year}:\\t{df.columns}\")"
   ]
  },
  {
   "cell_type": "markdown",
   "metadata": {},
   "source": [
    "Now that everything works, we can do our merge to create a single dataframe with the information for all of the school years we have downloaded."
   ]
  },
  {
   "cell_type": "code",
   "execution_count": 8,
   "metadata": {},
   "outputs": [
    {
     "data": {
      "text/html": [
       "<div>\n",
       "<style scoped>\n",
       "    .dataframe tbody tr th:only-of-type {\n",
       "        vertical-align: middle;\n",
       "    }\n",
       "\n",
       "    .dataframe tbody tr th {\n",
       "        vertical-align: top;\n",
       "    }\n",
       "\n",
       "    .dataframe thead th {\n",
       "        text-align: right;\n",
       "    }\n",
       "</style>\n",
       "<table border=\"1\" class=\"dataframe\">\n",
       "  <thead>\n",
       "    <tr style=\"text-align: right;\">\n",
       "      <th></th>\n",
       "      <th>State</th>\n",
       "      <th>Salary 2017</th>\n",
       "      <th>Salary 2018</th>\n",
       "      <th>Salary 2019</th>\n",
       "      <th>Salary 2020</th>\n",
       "    </tr>\n",
       "  </thead>\n",
       "  <tbody>\n",
       "    <tr>\n",
       "      <th>0</th>\n",
       "      <td>Alabama</td>\n",
       "      <td>50,391</td>\n",
       "      <td>50,568</td>\n",
       "      <td>52,009</td>\n",
       "      <td>54,095</td>\n",
       "    </tr>\n",
       "    <tr>\n",
       "      <th>1</th>\n",
       "      <td>Alaska</td>\n",
       "      <td>6 8,138</td>\n",
       "      <td>69,682</td>\n",
       "      <td>70,277</td>\n",
       "      <td>70,877</td>\n",
       "    </tr>\n",
       "    <tr>\n",
       "      <th>2</th>\n",
       "      <td>Arizona</td>\n",
       "      <td>4 7,403</td>\n",
       "      <td>48,723</td>\n",
       "      <td>50,353</td>\n",
       "      <td>50,381</td>\n",
       "    </tr>\n",
       "    <tr>\n",
       "      <th>3</th>\n",
       "      <td>Arkansas</td>\n",
       "      <td>4 8,304</td>\n",
       "      <td>50,544</td>\n",
       "      <td>49,438</td>\n",
       "      <td>49,822</td>\n",
       "    </tr>\n",
       "    <tr>\n",
       "      <th>4</th>\n",
       "      <td>California</td>\n",
       "      <td>7 9,128</td>\n",
       "      <td>80,680</td>\n",
       "      <td>83,059</td>\n",
       "      <td>84,659</td>\n",
       "    </tr>\n",
       "  </tbody>\n",
       "</table>\n",
       "</div>"
      ],
      "text/plain": [
       "        State Salary 2017 Salary 2018 Salary 2019 Salary 2020\n",
       "0     Alabama      50,391      50,568      52,009      54,095\n",
       "1      Alaska     6 8,138      69,682      70,277      70,877\n",
       "2     Arizona     4 7,403      48,723      50,353      50,381\n",
       "3    Arkansas     4 8,304      50,544      49,438      49,822\n",
       "4  California     7 9,128      80,680      83,059      84,659"
      ]
     },
     "execution_count": 8,
     "metadata": {},
     "output_type": "execute_result"
    }
   ],
   "source": [
    "merge_df = source_df[\"2018\"].drop([\"Salary 2018\"], axis=1).merge(\n",
    "                    source_df[\"2019\"].drop([\"Salary 2019\"], axis=1)).merge(\n",
    "                    source_df[\"2020\"])\n",
    "\n",
    "merge_df.head()"
   ]
  },
  {
   "cell_type": "markdown",
   "metadata": {},
   "source": [
    "### Numeric Conversion"
   ]
  },
  {
   "cell_type": "markdown",
   "metadata": {},
   "source": [
    "We're almost done! Notice that we still have not dealt with the fact that every column is still treated as a string. Before we can use the `to_numeric` function, we still need to take care of two issues:\n",
    "\n",
    "- The commas in the numbers. While they are nice for our human eyes, Pandas doesn't like them.\n",
    "- In the 2017 salary column, there appears to be extraneous white space after the first digit for some entries.\n",
    "\n",
    "Luckily, both of these problems can be remedied with a simple string replacement operation."
   ]
  },
  {
   "cell_type": "code",
   "execution_count": 9,
   "metadata": {},
   "outputs": [],
   "source": [
    "merge_df.iloc[:,1:] = merge_df.iloc[:,1:].replace(r\"[,| ]\", '', regex=True)\n",
    "\n",
    "for col in merge_df.columns[1:]:\n",
    "    merge_df[col] = pd.to_numeric(merge_df[col])"
   ]
  },
  {
   "cell_type": "markdown",
   "metadata": {},
   "source": [
    "Now we're done! We have created an overview of annual teacher salaries from the 2016-17 school year until 2019-20 extracted from a series of PDFs published by the NEA. We have cleaned up the data and converted everything to numerical values. We can now get summary statistics and do any analysis of interest with this data."
   ]
  },
  {
   "cell_type": "code",
   "execution_count": 10,
   "metadata": {},
   "outputs": [
    {
     "data": {
      "text/html": [
       "<div>\n",
       "<style scoped>\n",
       "    .dataframe tbody tr th:only-of-type {\n",
       "        vertical-align: middle;\n",
       "    }\n",
       "\n",
       "    .dataframe tbody tr th {\n",
       "        vertical-align: top;\n",
       "    }\n",
       "\n",
       "    .dataframe thead th {\n",
       "        text-align: right;\n",
       "    }\n",
       "</style>\n",
       "<table border=\"1\" class=\"dataframe\">\n",
       "  <thead>\n",
       "    <tr style=\"text-align: right;\">\n",
       "      <th></th>\n",
       "      <th>Salary 2017</th>\n",
       "      <th>Salary 2018</th>\n",
       "      <th>Salary 2019</th>\n",
       "      <th>Salary 2020</th>\n",
       "    </tr>\n",
       "  </thead>\n",
       "  <tbody>\n",
       "    <tr>\n",
       "      <th>count</th>\n",
       "      <td>51.000000</td>\n",
       "      <td>51.000000</td>\n",
       "      <td>51.000000</td>\n",
       "      <td>51.000000</td>\n",
       "    </tr>\n",
       "    <tr>\n",
       "      <th>mean</th>\n",
       "      <td>56536.196078</td>\n",
       "      <td>57313.039216</td>\n",
       "      <td>58983.254902</td>\n",
       "      <td>60170.647059</td>\n",
       "    </tr>\n",
       "    <tr>\n",
       "      <th>std</th>\n",
       "      <td>9569.444674</td>\n",
       "      <td>9795.914601</td>\n",
       "      <td>10286.843230</td>\n",
       "      <td>10410.259274</td>\n",
       "    </tr>\n",
       "    <tr>\n",
       "      <th>min</th>\n",
       "      <td>42925.000000</td>\n",
       "      <td>44926.000000</td>\n",
       "      <td>45105.000000</td>\n",
       "      <td>45192.000000</td>\n",
       "    </tr>\n",
       "    <tr>\n",
       "      <th>25%</th>\n",
       "      <td>49985.000000</td>\n",
       "      <td>50451.500000</td>\n",
       "      <td>51100.500000</td>\n",
       "      <td>52441.000000</td>\n",
       "    </tr>\n",
       "    <tr>\n",
       "      <th>50%</th>\n",
       "      <td>54308.000000</td>\n",
       "      <td>53815.000000</td>\n",
       "      <td>54935.000000</td>\n",
       "      <td>57091.000000</td>\n",
       "    </tr>\n",
       "    <tr>\n",
       "      <th>75%</th>\n",
       "      <td>61038.000000</td>\n",
       "      <td>61853.000000</td>\n",
       "      <td>64393.500000</td>\n",
       "      <td>66366.000000</td>\n",
       "    </tr>\n",
       "    <tr>\n",
       "      <th>max</th>\n",
       "      <td>81902.000000</td>\n",
       "      <td>84227.000000</td>\n",
       "      <td>85889.000000</td>\n",
       "      <td>87543.000000</td>\n",
       "    </tr>\n",
       "  </tbody>\n",
       "</table>\n",
       "</div>"
      ],
      "text/plain": [
       "        Salary 2017   Salary 2018   Salary 2019   Salary 2020\n",
       "count     51.000000     51.000000     51.000000     51.000000\n",
       "mean   56536.196078  57313.039216  58983.254902  60170.647059\n",
       "std     9569.444674   9795.914601  10286.843230  10410.259274\n",
       "min    42925.000000  44926.000000  45105.000000  45192.000000\n",
       "25%    49985.000000  50451.500000  51100.500000  52441.000000\n",
       "50%    54308.000000  53815.000000  54935.000000  57091.000000\n",
       "75%    61038.000000  61853.000000  64393.500000  66366.000000\n",
       "max    81902.000000  84227.000000  85889.000000  87543.000000"
      ]
     },
     "execution_count": 10,
     "metadata": {},
     "output_type": "execute_result"
    }
   ],
   "source": [
    "merge_df.describe() # summary stats of our numeric columns"
   ]
  },
  {
   "cell_type": "markdown",
   "metadata": {},
   "source": [
    "## Table B-6\n",
    "\n",
    "As mentioned above, table B-6 in the 2020 Report presents slightly greater challenges. A lot of the cleaning is similar or identical, so I will not reproduce it in full. Instead, I have loaded a subsetted part of table B-6 and will show how this can be cleaned up as well. But first, let's look at the first several entries:"
   ]
  },
  {
   "cell_type": "code",
   "execution_count": 12,
   "metadata": {},
   "outputs": [
    {
     "data": {
      "text/html": [
       "<div>\n",
       "<style scoped>\n",
       "    .dataframe tbody tr th:only-of-type {\n",
       "        vertical-align: middle;\n",
       "    }\n",
       "\n",
       "    .dataframe tbody tr th {\n",
       "        vertical-align: top;\n",
       "    }\n",
       "\n",
       "    .dataframe thead th {\n",
       "        text-align: right;\n",
       "    }\n",
       "</style>\n",
       "<table border=\"1\" class=\"dataframe\">\n",
       "  <thead>\n",
       "    <tr style=\"text-align: right;\">\n",
       "      <th></th>\n",
       "      <th>Unnamed: 0</th>\n",
       "      <th>2017-18 (Revised)</th>\n",
       "      <th>2018-19</th>\n",
       "    </tr>\n",
       "  </thead>\n",
       "  <tbody>\n",
       "    <tr>\n",
       "      <th>0</th>\n",
       "      <td>State</td>\n",
       "      <td>Salary($) Rank</td>\n",
       "      <td>Salary($)</td>\n",
       "    </tr>\n",
       "    <tr>\n",
       "      <th>1</th>\n",
       "      <td>Alabama</td>\n",
       "      <td>50,568 36</td>\n",
       "      <td>52,009</td>\n",
       "    </tr>\n",
       "    <tr>\n",
       "      <th>2</th>\n",
       "      <td>Alaska</td>\n",
       "      <td>69,682 7</td>\n",
       "      <td>70,277</td>\n",
       "    </tr>\n",
       "    <tr>\n",
       "      <th>3</th>\n",
       "      <td>Arizona</td>\n",
       "      <td>48,315 45</td>\n",
       "      <td>50,353</td>\n",
       "    </tr>\n",
       "    <tr>\n",
       "      <th>4</th>\n",
       "      <td>Arkansas</td>\n",
       "      <td>49,096 44</td>\n",
       "      <td>49,438</td>\n",
       "    </tr>\n",
       "    <tr>\n",
       "      <th>5</th>\n",
       "      <td>California</td>\n",
       "      <td>80,680 2</td>\n",
       "      <td>83,059 *</td>\n",
       "    </tr>\n",
       "    <tr>\n",
       "      <th>6</th>\n",
       "      <td>Colorado</td>\n",
       "      <td>52,695 32</td>\n",
       "      <td>54,935</td>\n",
       "    </tr>\n",
       "    <tr>\n",
       "      <th>7</th>\n",
       "      <td>Connecticut</td>\n",
       "      <td>74,517 * 5</td>\n",
       "      <td>76,465 *</td>\n",
       "    </tr>\n",
       "    <tr>\n",
       "      <th>8</th>\n",
       "      <td>Delaware</td>\n",
       "      <td>62,422 13</td>\n",
       "      <td>63,662</td>\n",
       "    </tr>\n",
       "  </tbody>\n",
       "</table>\n",
       "</div>"
      ],
      "text/plain": [
       "    Unnamed: 0 2017-18 (Revised)    2018-19\n",
       "0        State    Salary($) Rank  Salary($)\n",
       "1      Alabama         50,568 36     52,009\n",
       "2       Alaska          69,682 7     70,277\n",
       "3      Arizona         48,315 45     50,353\n",
       "4     Arkansas         49,096 44     49,438\n",
       "5   California          80,680 2   83,059 *\n",
       "6     Colorado         52,695 32     54,935\n",
       "7  Connecticut        74,517 * 5   76,465 *\n",
       "8     Delaware         62,422 13     63,662"
      ]
     },
     "execution_count": 12,
     "metadata": {},
     "output_type": "execute_result"
    }
   ],
   "source": [
    "table_b6 = tabula.read_pdf(report[\"2020\"]['url'], stream=True, pages=26)[0]\n",
    "b6 = table_b6.iloc[:9,:3]  # subsetting, can be hidden in blog post\n",
    "b6"
   ]
  },
  {
   "cell_type": "markdown",
   "metadata": {},
   "source": [
    "We can see that there is an additional hurdle compared to the previous tables: the second column now contains data from two columns, both the Salary information as well as a ranking of the salary as it compares to the different states. For a few states, there is additionally a '\\*' to denote values that were estimated as opposed to received. We can again use a simple regex replace together with a capture group to parse out only those values that we are interested in, while dropping the extraneous information using the code below."
   ]
  },
  {
   "cell_type": "code",
   "execution_count": 14,
   "metadata": {},
   "outputs": [],
   "source": [
    "# hide this in article\n",
    "b6.drop([0], inplace=True)\n",
    "b6.rename(columns={\n",
    "    b6.columns[0] : \"State\",\n",
    "    b6.columns[1] : \"Salary 2018\",\n",
    "    b6.columns[2] : \"Salary 2019\",\n",
    "}, inplace=True)\n",
    "# end hide\n",
    "b6.iloc[:,1:] = b6.iloc[:,1:].replace(r\"([\\d,]+).*\", r\"\\1\", regex=True)"
   ]
  },
  {
   "cell_type": "markdown",
   "metadata": {},
   "source": [
    "And now we're back to where we were above before we did the string conversion. This is what it looks like after also dropping the first row and renaming the columns:"
   ]
  },
  {
   "cell_type": "code",
   "execution_count": 15,
   "metadata": {},
   "outputs": [
    {
     "data": {
      "text/html": [
       "<div>\n",
       "<style scoped>\n",
       "    .dataframe tbody tr th:only-of-type {\n",
       "        vertical-align: middle;\n",
       "    }\n",
       "\n",
       "    .dataframe tbody tr th {\n",
       "        vertical-align: top;\n",
       "    }\n",
       "\n",
       "    .dataframe thead th {\n",
       "        text-align: right;\n",
       "    }\n",
       "</style>\n",
       "<table border=\"1\" class=\"dataframe\">\n",
       "  <thead>\n",
       "    <tr style=\"text-align: right;\">\n",
       "      <th></th>\n",
       "      <th>State</th>\n",
       "      <th>Salary 2018</th>\n",
       "      <th>Salary 2019</th>\n",
       "    </tr>\n",
       "  </thead>\n",
       "  <tbody>\n",
       "    <tr>\n",
       "      <th>1</th>\n",
       "      <td>Alabama</td>\n",
       "      <td>50,568</td>\n",
       "      <td>52,009</td>\n",
       "    </tr>\n",
       "    <tr>\n",
       "      <th>2</th>\n",
       "      <td>Alaska</td>\n",
       "      <td>69,682</td>\n",
       "      <td>70,277</td>\n",
       "    </tr>\n",
       "    <tr>\n",
       "      <th>3</th>\n",
       "      <td>Arizona</td>\n",
       "      <td>48,315</td>\n",
       "      <td>50,353</td>\n",
       "    </tr>\n",
       "    <tr>\n",
       "      <th>4</th>\n",
       "      <td>Arkansas</td>\n",
       "      <td>49,096</td>\n",
       "      <td>49,438</td>\n",
       "    </tr>\n",
       "    <tr>\n",
       "      <th>5</th>\n",
       "      <td>California</td>\n",
       "      <td>80,680</td>\n",
       "      <td>83,059</td>\n",
       "    </tr>\n",
       "    <tr>\n",
       "      <th>6</th>\n",
       "      <td>Colorado</td>\n",
       "      <td>52,695</td>\n",
       "      <td>54,935</td>\n",
       "    </tr>\n",
       "    <tr>\n",
       "      <th>7</th>\n",
       "      <td>Connecticut</td>\n",
       "      <td>74,517</td>\n",
       "      <td>76,465</td>\n",
       "    </tr>\n",
       "    <tr>\n",
       "      <th>8</th>\n",
       "      <td>Delaware</td>\n",
       "      <td>62,422</td>\n",
       "      <td>63,662</td>\n",
       "    </tr>\n",
       "  </tbody>\n",
       "</table>\n",
       "</div>"
      ],
      "text/plain": [
       "         State Salary 2018 Salary 2019\n",
       "1      Alabama      50,568      52,009\n",
       "2       Alaska      69,682      70,277\n",
       "3      Arizona      48,315      50,353\n",
       "4     Arkansas      49,096      49,438\n",
       "5   California      80,680      83,059\n",
       "6     Colorado      52,695      54,935\n",
       "7  Connecticut      74,517      76,465\n",
       "8     Delaware      62,422      63,662"
      ]
     },
     "execution_count": 15,
     "metadata": {},
     "output_type": "execute_result"
    }
   ],
   "source": [
    "b6"
   ]
  },
  {
   "cell_type": "markdown",
   "metadata": {},
   "source": [
    "From here on out, we can proceed as in the previous example."
   ]
  }
 ],
 "metadata": {
  "kernelspec": {
   "display_name": "Python 3",
   "language": "python",
   "name": "python3"
  },
  "language_info": {
   "codemirror_mode": {
    "name": "ipython",
    "version": 3
   },
   "file_extension": ".py",
   "mimetype": "text/x-python",
   "name": "python",
   "nbconvert_exporter": "python",
   "pygments_lexer": "ipython3",
   "version": "3.8.5"
  }
 },
 "nbformat": 4,
 "nbformat_minor": 4
}
