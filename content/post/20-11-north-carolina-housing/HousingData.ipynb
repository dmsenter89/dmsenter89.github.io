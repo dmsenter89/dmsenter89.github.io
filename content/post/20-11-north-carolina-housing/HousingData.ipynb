{
 "cells": [
  {
   "cell_type": "markdown",
   "metadata": {},
   "source": [
    "A popular beginners machine learning problem is the prediction of housing prices. A frequently used data set for this purpose uses housing prices in California along some additional  gathered through the 1990 Census. One such data set is available [here](https://www.kaggle.com/camnugent/california-housing-prices) at Kaggle. Unfortunately, that data set is rather old. And I live in North Carolina, not California! So I figured I might as well create a new housing data set, but this time with more up-to-date information and using North Carolina as the state to be analyzed. One thing that may be interesting about North Carlina as compared to California is the position of major populations centers. In California, major population centers are near the beach, while major population centers in North Carolina are in the interior of the state. Both large citites and proximity to the beach tend to correlate with higher housing prices. In California, unlike in North Carolina, both of these go together.\n",
    "\n",
    "This post will describe the Kaggle data set with California housing prices and then walk you through how the relevant data can be acquired from the Census Bureau. I'll also show how to clean the data. For those who just want to explore the complete data set, I have made it available for download {{% staticref \"files/NC_Housing_Prices_2018.csv\" \"newtab\" %}}here{{% /staticref %}}.\n",
    "\n",
    "{{% toc %}}"
   ]
  },
  {
   "cell_type": "markdown",
   "metadata": {},
   "source": [
    "## The Source Data Set\n",
    "\n",
    "The geographic unit of the Kaggle data set is the Census block group, which means we will have several thousand data points for our analysis. For a good big-picture overview of Census geography divisions, see this [post](https://pitt.libguides.com/uscensus/understandinggeography) from the University of Pittsburgh library. The data set's ten columns contain geographic, housing, and Census information that can be broken down as follows:\n",
    "\n",
    "- geographic information\n",
    "    - longitude\n",
    "    - latitude\n",
    "    - ocean proximity\n",
    "- housing information\n",
    "    - median age of homes\n",
    "    - median value of homes\n",
    "    - total number of rooms in area\n",
    "    - total number of bedrooms in the area\n",
    "- Census information\n",
    "    - population\n",
    "    - number of households\n",
    "    - median income\n",
    "    \n",
    "Most of these exist directly in the Census API data that we have [covered previously]({{< ref \"/post/20-08-census-api/index.md\" >}}). The ocean proximity variable is a categorical giving approximate distance from the beach. My data set will not include this last categorical variable."
   ]
  },
  {
   "cell_type": "markdown",
   "metadata": {},
   "source": [
    "## Acquiring the Census Data Set \n",
    "\n",
    "### Census Variables\n",
    "The first, and most time consuming aspect, is to figure out where the data we want is located. We know that the US has a decennial census, so accurate information is available every ten years at every level of geography that the Census Bureau tracks. Since it is currently a census year 2020 and the newest information hasn't been tabulated yet, that means the last census count that is available is from 2010. While this is 20 years more current than the California set from 1990, it still seems a bit outdated. Luckily, since the introduction of the American Community Survey (ACS) we have annually updated information available - but not for every level of geography. Only the 5-year ACS average gives us census block-level information for the whole state, making it comparable to the Kaggle data set. The most recent of these is the 2018. \n",
    "\n",
    "I start by creating a data dictionary from the [groups](https://api.census.gov/data/2018/acs/acs5/groups.html) and [variables](\n",
    "https://api.census.gov/data/2018/acs/acs5/variables.html) pages of the \"American Community Survey: 1-Year Estimates: Detailed Tables 5-Year\" data set. Note that median home age is not directly available. Instead, we will use the median year structures were built to calculate the median home age. Our data dictionary also does not include any data for the longitude and latitude of each row. We will get that data separately."
   ]
  },
  {
   "cell_type": "code",
   "execution_count": 2,
   "metadata": {},
   "outputs": [],
   "source": [
    "data_dictionary = {\n",
    "    'B01001_001E' : \"population\",\n",
    "    'B11001_001E' : \"households\",\n",
    "    'B19013_001E' : \"median_income\", \n",
    "    'B25077_001E' : \"median_house_value\",\n",
    "    'B25035_001E' : \"median_year_structure_built\",\n",
    "    'B25041_001E' : \"total_bedrooms\",\n",
    "    'B25017_001E' : \"total_rooms\",\n",
    "}"
   ]
  },
  {
   "cell_type": "markdown",
   "metadata": {},
   "source": [
    "### Geography Considerations\n",
    "\n",
    "The next step is figuring out exactly what level of geography we want. Our data set goes down to the Census block level at its most granular. Unfortunately, the Census API won't let us pull the data for all the Census blocks in a state at once. Census tracts on the other hand can be acquired in one go. If we were to shortcut and use only tract data, this would be a pretty quick API call build:\n",
    "\n",
    "```python\n",
    "primary_geo = \"tract:*\"\n",
    "secondary_geo = \"state:37\"\n",
    "query = base_URL + \"?get=\" + \",\".join(data_dictionary.keys()) + f\"&for={primary_geo}&in={secondary_geo}\"\n",
    "```\n",
    "\n",
    "But let's try and do it for the Census blocks instead. This will require us to build a sequence of API calls that loops over a larger geographic area, say the different counties in the state, and pull in the respective census block data for that geographic unit. While the FIPS codes for the state counties are sorted alphabetically, they are not contiguous. A full listing of North Carolina county FIPS codes is availalbe [from NCSU here](https://www.lib.ncsu.edu/gis/countyfips). It appears to be that the county FIPS codes are three digits long, starting at `001` and go up to `199` in increments of 2, meaning only odd numbers are in the county set. So it looks like we will be using `range(1,200,2)` with zero-padding to create the list of county FIPS codes. So we could use a loop similar to this:\n",
    "\n",
    "```python\n",
    "vars_requested = \",\".join(data_dictionary.keys())\n",
    "\n",
    "for i in range(1,200,2):\n",
    "    geo_request = f\"for=block%20group:*&in=state:37%20county:{i:03}\"\n",
    "    query = base_URL + f\"?get={vars_requested}&{geo_request}\"\n",
    "```\n",
    "\n",
    "While practicing to write the appropriate API call, you may find it useful to give it frequent, quick tests using curl. If you are using Jupyter or IPython, you can use `!curl \"{query}\"` to test your API query. Don't forget the quotation marks, since the ampersand has special meaning in the shell. It may be helpful to test the output of your call at the county or city level with that reported on the [Census Quickfacts page](https://www.census.gov/quickfacts/fact/table/US/PST045219), if your variable is listed there. This can help make sure you are pulling the data you actually want.\n",
    "\n",
    "Now that we have figured out the loop necessary for creation of the API calls, we can put everything together and create a list of Pandas DataFrames which we then concatenate to create our master list."
   ]
  },
  {
   "cell_type": "code",
   "execution_count": 5,
   "metadata": {},
   "outputs": [],
   "source": [
    "import pandas as pd\n",
    "import requests\n",
    "\n",
    "# create the base-URL\n",
    "host_name = \"https://api.census.gov/data\"\n",
    "year = \"2018\"\n",
    "dataset_name = \"acs/acs5\"\n",
    "base_URL = f\"{host_name}/{year}/{dataset_name}\"\n",
    "\n",
    "# build the api calls as a list\n",
    "query_vars = base_URL + \"?get=\" + \",\".join(list(data_dictionary.keys()) + [\"NAME\",\"GEO_ID\"])\n",
    "api_calls = [query_vars + f\"&for=block%20group:*&in=state:37%20county:{i:03}\" for i in range(1,200,2) ]\n",
    "\n",
    "# running the API calls will take a moment\n",
    "rjson_list = [requests.get(call).json() for call in api_calls]\n",
    "\n",
    "# create the data frame by concatenation\n",
    "df_list = [pd.DataFrame(data[1:], columns=data[0]) for data in rjson_list]\n",
    "df = pd.concat(df_list, ignore_index=True)\n",
    "\n",
    "# save the raw output to disk\n",
    "df.to_csv(\"raw_census.csv\", index=False)"
   ]
  },
  {
   "cell_type": "markdown",
   "metadata": {},
   "source": [
    "And now we have the data set! We do still have to address the issue of our values all being imported as strings as mentioned in my [Census API post]({{< ref \"/post/20-08-census-api/index.md\" >}})."
   ]
  },
  {
   "cell_type": "markdown",
   "metadata": {},
   "source": [
    "## Acquiring Location Data\n",
    "\n",
    "As mentioned above, we are still missing information regarding the latitude and longitude of the different block groups. The Census Bureau makes a lot of geographically coded data available on its [TIGERweb](https://tigerweb.geo.census.gov/tigerwebmain/TIGERweb_main.html) page. You can interact with it both using a REST API and its web-interface. A page with map information exists [here](https://tigerweb.geo.census.gov/arcgis/rest/services/Generalized_ACS2018/Tracts_Blocks/MapServer/4). \n",
    "\n",
    "Dealing with shapefiles and the TIGERweb API can get a little complicated. Luckily, I know someone with expertise in GIS and shapefiles so we will be using a CSV file of the geographic data we need courtesy of [Summer Faircloth](https://www.linkedin.com/in/summer-faircloth-652797137), a GIS intern at the North Carolina Department of Transportation. She downloaded the TIGER/Line Shapefiles for the 20189 ACS [Block Groups](https://catalog.data.gov/dataset/tiger-line-shapefile-2018-state-north-carolina-current-block-group-state-based) and [Census Tracts](https://catalog.data.gov/dataset/tiger-line-shapefile-2018-state-north-carolina-current-census-tract-state-based) and joined the data sets in ArcMap, from where she exported our CSV file, which is now {{% staticref \"files/BlockGroup_Tract2018.csv\" \"newtab\" %}}available here{{% /staticref %}}.\n",
    "\n",
    "We don't need all of the columns in the CSV file, so we will limit the import to the parts we need with the `usecols` keyword."
   ]
  },
  {
   "cell_type": "code",
   "execution_count": 31,
   "metadata": {},
   "outputs": [],
   "source": [
    "df = pd.read_csv(\"raw_census.csv\", dtype={})"
   ]
  },
  {
   "cell_type": "code",
   "execution_count": 32,
   "metadata": {},
   "outputs": [],
   "source": [
    "shapedata = pd.read_csv(\"BlockGroup_Tract2018.csv\", \n",
    "                        dtype={\"GEOID\": str},\n",
    "                        usecols=['GEOID','NAMELSAD','INTPTLAT','INTPTLON','NAMELSAD_1'] )\n",
    "\n",
    "shapedata = shapedata.rename(columns={'INTPTLAT' : 'latitude', 'INTPTLON' : 'longitude' })"
   ]
  },
  {
   "cell_type": "markdown",
   "metadata": {},
   "source": [
    "## Data Merge with GEOID Matching\n",
    "\n",
    "At this stage we have two data frames - the first consists of all the Census information sans the geographic coordinates of the block groups, and a second data set containing the block groups' location. Both data sets contain a GEOID column that can be used for merging. The GEOID returned by the Census API includes additional information to the regular FIPS code based GEOID used in the TIGERweb system. For example, \"1500000US370010204005\" in the census data set is actually GEOID \"370010204005\" for purposes of the TIGERweb data set. We'll use a string split to make our GEO_ID variable from the Census API compatible with the FIPS code based GEOID from the TIGERweb service."
   ]
  },
  {
   "cell_type": "code",
   "execution_count": 33,
   "metadata": {},
   "outputs": [],
   "source": [
    "df[\"GEO_ID\"] = df[\"GEO_ID\"].str.split('US').str[1]\n",
    "\n",
    "df = df.merge(shapedata, left_on='GEO_ID', right_on=\"GEOID\")"
   ]
  },
  {
   "cell_type": "markdown",
   "metadata": {},
   "source": [
    "## Data Cleaning\n",
    "\n",
    "Now that our data set has been assembled, we can work on cleaning up the merged data set. We have the following tasks left:\n",
    "\n",
    "- convert column data types to numeric\n",
    "- drop unnecessary columns\n",
    "- rename columns\n",
    "- handle missing values\n",
    "- calculate median age of homes"
   ]
  },
  {
   "cell_type": "code",
   "execution_count": 34,
   "metadata": {},
   "outputs": [],
   "source": [
    "for col in data_dictionary.keys():\n",
    "    if col not in [\"NAME\", \"GEO_ID\"]:\n",
    "        df[col] = pd.to_numeric(df[col])"
   ]
  },
  {
   "cell_type": "markdown",
   "metadata": {},
   "source": [
    "To indicate missing values, the Census API returns a value of \"-666666666\" in numeric columns. As all of our variables - except for longitude - ought to be positive, we can use the `mask` function to convert all negative values to missing. We'll start by filtering out the string columns that are no longer necessary."
   ]
  },
  {
   "cell_type": "code",
   "execution_count": 35,
   "metadata": {},
   "outputs": [],
   "source": [
    "# filter down to our numerical columns\n",
    "keeps = list(data_dictionary.keys()) +[\"latitude\", \"longitude\"]\n",
    "df = df.filter(items=keeps)\n",
    "\n",
    "# replace vals < 0 with missing\n",
    "k = df.loc[:, df.columns != 'longitude']\n",
    "k = k.mask(k < 0)\n",
    "df.loc[:, df.columns != 'longitude'] = k"
   ]
  },
  {
   "cell_type": "markdown",
   "metadata": {},
   "source": [
    "Now that the missing values have been handled, we can go ahead and calculate our median home age."
   ]
  },
  {
   "cell_type": "code",
   "execution_count": 37,
   "metadata": {},
   "outputs": [],
   "source": [
    "df.rename(columns=data_dictionary, inplace=True)\n",
    "df[\"housing_median_age\"] = 2018 - df[\"median_year_structure_built\"]\n",
    "df.drop(columns=\"median_year_structure_built\", inplace=True)"
   ]
  },
  {
   "cell_type": "markdown",
   "metadata": {},
   "source": [
    "And now we're done! We will save our output data set to disk for future analysis in a different post."
   ]
  },
  {
   "cell_type": "code",
   "execution_count": 38,
   "metadata": {},
   "outputs": [],
   "source": [
    "df.to_csv(\"NC_Housing_Prices_2018.csv\", index=False)"
   ]
  }
 ],
 "metadata": {
  "kernelspec": {
   "display_name": "Python 3",
   "language": "python",
   "name": "python3"
  },
  "language_info": {
   "codemirror_mode": {
    "name": "ipython",
    "version": 3
   },
   "file_extension": ".py",
   "mimetype": "text/x-python",
   "name": "python",
   "nbconvert_exporter": "python",
   "pygments_lexer": "ipython3",
   "version": "3.8.5"
  }
 },
 "nbformat": 4,
 "nbformat_minor": 4
}
